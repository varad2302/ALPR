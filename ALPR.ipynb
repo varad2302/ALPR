{
  "nbformat": 4,
  "nbformat_minor": 0,
  "metadata": {
    "colab": {
      "name": "ALPR.ipynb",
      "provenance": [],
      "collapsed_sections": []
    },
    "kernelspec": {
      "name": "python3",
      "display_name": "Python 3"
    },
    "language_info": {
      "name": "python"
    },
    "accelerator": "GPU"
  },
  "cells": [
    {
      "cell_type": "markdown",
      "metadata": {
        "id": "fgWxMaQK5Trg"
      },
      "source": [
        "## Setting up the Environment"
      ]
    },
    {
      "cell_type": "code",
      "metadata": {
        "id": "r7_BQMvjHXCN"
      },
      "source": [
        "from google.colab import drive\n",
        "drive.mount('/content/gdrive')"
      ],
      "execution_count": null,
      "outputs": []
    },
    {
      "cell_type": "code",
      "metadata": {
        "id": "Af5JVjEOGN_k"
      },
      "source": [
        "%cd /content/gdrive/MyDrive/ALPR"
      ],
      "execution_count": null,
      "outputs": []
    },
    {
      "cell_type": "code",
      "source": [
        "\"\"\"\n",
        "Directory structure:\n",
        "\\ALPR\n",
        "...\\datasets\n",
        "......\\images\n",
        ".........\\train\n",
        ".........\\test\n",
        ".........\\val\n",
        "......\\labels\n",
        ".........\\train\n",
        ".........\\test\n",
        ".........\\val\n",
        "...\\yolov5\n",
        "\n",
        "\"\"\""
      ],
      "metadata": {
        "id": "870jP_ZOlA1a"
      },
      "execution_count": null,
      "outputs": []
    },
    {
      "cell_type": "code",
      "metadata": {
        "id": "dqqkZpv4GN0I"
      },
      "source": [
        "!git clone https://github.com/ultralytics/yolov5\n",
        "!pip install -U -r '/content/gdrive/MyDrive/ALPR/yolov5/requirements.txt'\n",
        "!sudo apt install tesseract-ocr\n",
        "!pip install utils\n",
        "!pip install pytesseract"
      ],
      "execution_count": null,
      "outputs": []
    },
    {
      "cell_type": "code",
      "metadata": {
        "id": "FoX3fgFrG8kY"
      },
      "source": [
        "import os\n",
        "import numpy as np\n",
        "from pathlib import Path\n",
        "from xml.dom.minidom import parse\n",
        "import torch\n",
        "from IPython.display import Image\n",
        "import pytesseract\n",
        "import cv2\n",
        "import matplotlib.pyplot as plt\n"
      ],
      "execution_count": null,
      "outputs": []
    },
    {
      "cell_type": "code",
      "metadata": {
        "id": "9BELfQEx7r2_"
      },
      "source": [
        "!which tesseract"
      ],
      "execution_count": null,
      "outputs": []
    },
    {
      "cell_type": "code",
      "metadata": {
        "id": "vE6Sd-1J7stY"
      },
      "source": [
        "pytesseract.pytesseract.tesseract_cmd = (r'/usr/bin/tesseract')"
      ],
      "execution_count": null,
      "outputs": []
    },
    {
      "cell_type": "markdown",
      "metadata": {
        "id": "fMLLmMG77-87"
      },
      "source": [
        "# Automatic License Plate Recognition "
      ]
    },
    {
      "cell_type": "markdown",
      "metadata": {
        "id": "zUZlmiMZ6Bi2"
      },
      "source": [
        "### Converting Bounding Box Labels to YOLO Format"
      ]
    },
    {
      "cell_type": "code",
      "metadata": {
        "id": "yLf4dkjPG_SW"
      },
      "source": [
        "DATA_ROOT = '/content/gdrive/MyDrive/ALPR/datasets/'\n",
        "IMG_PATH = DATA_ROOT + 'images'\n",
        "XML_PATH = DATA_ROOT + 'annotations'\n",
        "LABELS_PATH = DATA_ROOT + 'labels'"
      ],
      "execution_count": null,
      "outputs": []
    },
    {
      "cell_type": "code",
      "metadata": {
        "id": "JinWH18eRWd6"
      },
      "source": [
        "# Function to convert boundin box coordinates from [x1 y1 x2 y2] to [x y w h]\n",
        "def convert_coords(size, box):\n",
        "  x1 = int(box[0])\n",
        "  y1 = int(box[1])\n",
        "  x2 = int(box[2])\n",
        "  y2 = int(box[3])\n",
        "\n",
        "  w = x2 - x1\n",
        "  h = y2 - y1\n",
        "\n",
        "  x = np.float32((x1 + (w/2))/(int(size[0])))\n",
        "  y = np.float32((y1 + (h/2))/(int(size[1])))\n",
        "  w = np.float32(w/(int(size[0])))\n",
        "  h = np.float32(h/(int(size[1])))\n",
        "\n",
        "  return [x,y,w,h]\n",
        "\n",
        "# Function to save labels as txt file\n",
        "def save_annot(dataset, img_name, size, boxes):\n",
        "  annot = LABELS_PATH + '/' + dataset + '/' + img_name + '.txt'\n",
        "  with open(annot,'a') as f:\n",
        "    for box in boxes:\n",
        "      box = convert_coords(size, box[1:])\n",
        "      f.write(f\"0 {box[0]} {box[1]} {box[2]} {box[3]}\\n\")\n",
        "\n",
        "# Function to read the annotations xml file\n",
        "def read_xml(dataset, img_xml):\n",
        "  xml_path = XML_PATH + '/' + dataset + '/' + img_xml + '.xml'\n",
        "  dom = parse(xml_path)\n",
        "\n",
        "  root = dom.documentElement\n",
        "  img_name = root.getElementsByTagName(\"filename\")[0].childNodes[0].data\n",
        "  img_size = root.getElementsByTagName(\"size\")[0]\n",
        "  objects = root.getElementsByTagName(\"object\")\n",
        "  img_w = img_size.getElementsByTagName(\"width\")[0].childNodes[0].data\n",
        "  img_h = img_size.getElementsByTagName(\"height\")[0].childNodes[0].data\n",
        "  img_c = img_size.getElementsByTagName(\"depth\")[0].childNodes[0].data\n",
        "\n",
        "  img_box = []\n",
        "  for box in objects:\n",
        "      cls_name = box.getElementsByTagName(\"name\")[0].childNodes[0].data\n",
        "      x1 = int(box.getElementsByTagName(\"xmin\")[0].childNodes[0].data)\n",
        "      y1 = int(box.getElementsByTagName(\"ymin\")[0].childNodes[0].data)\n",
        "      x2 = int(box.getElementsByTagName(\"xmax\")[0].childNodes[0].data)\n",
        "      y2 = int(box.getElementsByTagName(\"ymax\")[0].childNodes[0].data)\n",
        "      print(\"box:(c,xmin,ymin,xmax,ymax)\", cls_name, x1, y1, x2, y2)\n",
        "      img_jpg_file_name = img_xml + '.jpg'\n",
        "      img_box.append([cls_name, x1, y1, x2, y2])\n",
        "\n",
        "  save_annot(dataset, img_xml, [img_w, img_h], img_box)\n",
        "\n",
        "# Function to convert annotations from COCO to YOLO format\n",
        "def convert_dataset(dataset):\n",
        "  files = os.listdir(XML_PATH + '/' + dataset)\n",
        "  for f in files:\n",
        "      print(\"File name: \", f)\n",
        "      file_xml = f.split(\".\")\n",
        "      read_xml(dataset, file_xml[0])"
      ],
      "execution_count": null,
      "outputs": []
    },
    {
      "cell_type": "code",
      "metadata": {
        "id": "uLWBvY_dYdXC"
      },
      "source": [
        "convert_dataset(\"train\")"
      ],
      "execution_count": null,
      "outputs": []
    },
    {
      "cell_type": "code",
      "metadata": {
        "id": "V3Jaq2-ldQ9G"
      },
      "source": [
        "convert_dataset(\"test\")"
      ],
      "execution_count": null,
      "outputs": []
    },
    {
      "cell_type": "code",
      "metadata": {
        "id": "DZ1URi-idRUm"
      },
      "source": [
        "convert_dataset(\"val\")"
      ],
      "execution_count": null,
      "outputs": []
    },
    {
      "cell_type": "markdown",
      "metadata": {
        "id": "ujV-ThP-6-zV"
      },
      "source": [
        "### Training YOLOv5 on Custom Dataset "
      ]
    },
    {
      "cell_type": "code",
      "metadata": {
        "id": "7BdFC3F4vYl2",
        "colab": {
          "base_uri": "https://localhost:8080/"
        },
        "outputId": "e74bffa8-7b38-4528-a909-27d7a680ef89"
      },
      "source": [
        "%cd '/content/gdrive/MyDrive/Deep Learning/ALPR/yolov5'"
      ],
      "execution_count": null,
      "outputs": [
        {
          "output_type": "stream",
          "name": "stdout",
          "text": [
            "/content/gdrive/MyDrive/Deep Learning/ALPR/yolov5\n"
          ]
        }
      ]
    },
    {
      "cell_type": "code",
      "source": [
        "# Copy to dataset.yaml in directory: yolov5/data/\n",
        "# Key values can be changed according to usecase\n",
        "\n",
        "'''\n",
        "path: ../datasets         # dataset root dir \n",
        "train: images/train       # train images (relative to 'path') 128 images \n",
        "val: images/val           # val images (relative to 'path') 128 images \n",
        "test:                     # test images (optional)  \n",
        "\n",
        "# Classes \n",
        "nc: 1                     # number of classes \n",
        "names: ['license']        # class names\n",
        "'''"
      ],
      "metadata": {
        "id": "zecBTPNEkHUl"
      },
      "execution_count": null,
      "outputs": []
    },
    {
      "cell_type": "code",
      "metadata": {
        "id": "Xui9g-cY_ssQ"
      },
      "source": [
        "# dataset.yaml stores the dataset config including train, test, validation set paths, \n",
        "# number of classes and class labels\n",
        "%cat > ./data/dataset.yaml"
      ],
      "execution_count": null,
      "outputs": []
    },
    {
      "cell_type": "code",
      "metadata": {
        "id": "rBfVa0WU-qeo"
      },
      "source": [
        "!python train.py --img 416 --batch 32 --epochs 100 --data dataset.yaml --weights yolov5s.pt"
      ],
      "execution_count": null,
      "outputs": []
    },
    {
      "cell_type": "markdown",
      "metadata": {
        "id": "isHnwK4C7dIh"
      },
      "source": [
        "## Model inference"
      ]
    },
    {
      "cell_type": "code",
      "metadata": {
        "id": "CjeFAtTdlLkx"
      },
      "source": [
        "%cd '/content/gdrive/MyDrive/Deep Learning/ALPR/yolov5'"
      ],
      "execution_count": null,
      "outputs": []
    },
    {
      "cell_type": "code",
      "metadata": {
        "colab": {
          "base_uri": "https://localhost:8080/"
        },
        "id": "hmb2ln7JCi0e",
        "outputId": "fa7f7897-5e0a-466f-8d9f-a40530daa482"
      },
      "source": [
        "!python detect.py --source '../datasets/images/test/Cars392.png' --img 416 --weights './runs/train/exp/weights/best.pt' --save-txt"
      ],
      "execution_count": null,
      "outputs": [
        {
          "output_type": "stream",
          "name": "stdout",
          "text": [
            "\u001b[34m\u001b[1mdetect: \u001b[0mweights=['./runs/train/exp/weights/best.pt'], source=../datasets/images/test/Cars392.png, imgsz=[416, 416], conf_thres=0.25, iou_thres=0.45, max_det=1000, device=, view_img=False, save_txt=True, save_conf=False, save_crop=False, nosave=False, classes=None, agnostic_nms=False, augment=False, visualize=False, update=False, project=runs/detect, name=exp, exist_ok=False, line_thickness=3, hide_labels=False, hide_conf=False, half=False, dnn=False\n",
            "YOLOv5 🚀 2021-12-3 torch 1.10.0+cu111 CUDA:0 (Tesla K80, 11441MiB)\n",
            "\n",
            "Fusing layers... \n",
            "Model Summary: 213 layers, 7012822 parameters, 0 gradients, 15.8 GFLOPs\n",
            "image 1/1 /content/gdrive/MyDrive/Deep Learning/ALPR/datasets/images/test/Cars392.png: 288x416 1 license, Done. (0.028s)\n",
            "Speed: 0.3ms pre-process, 27.6ms inference, 1.7ms NMS per image at shape (1, 3, 416, 416)\n",
            "Results saved to \u001b[1mruns/detect/exp6\u001b[0m\n",
            "1 labels saved to runs/detect/exp6/labels\n"
          ]
        }
      ]
    },
    {
      "cell_type": "markdown",
      "metadata": {
        "id": "Lc_7tXBI73SI"
      },
      "source": [
        "# Optical Character Recognition"
      ]
    },
    {
      "cell_type": "code",
      "metadata": {
        "id": "DwyUGvQv8eYi"
      },
      "source": [
        "%cd '/content/gdrive/MyDrive/Deep Learning/ALPR/yolov5'"
      ],
      "execution_count": null,
      "outputs": []
    },
    {
      "cell_type": "code",
      "metadata": {
        "id": "Be7clYbN8kMy"
      },
      "source": [
        "DETECT_PATH = './runs/detect/exp/'\n",
        "IMG_NAME = 'Cars392'\n",
        "IMG_PATH    = '../datasets/images/test/Cars392.png'"
      ],
      "execution_count": null,
      "outputs": []
    },
    {
      "cell_type": "code",
      "metadata": {
        "id": "TrY2EEYpoPOg"
      },
      "source": [
        "# read output text file to get bounding box coordinates\n",
        "def read_txt(filepath):\n",
        "    f = open(filepath, 'r')\n",
        "    lines = f.readlines()\n",
        "         \n",
        "    # read objects from each line of .txt\n",
        "    objects = []\n",
        "    for line in lines:\n",
        "        line=line.rstrip()\n",
        "        obj = [float(i) for i in line.split(' ')]\n",
        "        objects.append(obj)\n",
        "    #print(objects)\n",
        "    return objects"
      ],
      "execution_count": null,
      "outputs": []
    },
    {
      "cell_type": "code",
      "metadata": {
        "colab": {
          "base_uri": "https://localhost:8080/",
          "height": 238
        },
        "id": "rr9bKgIfo7mw",
        "outputId": "aff7ac33-56c4-4fcf-e198-d6eb66406d4f"
      },
      "source": [
        "img = cv2.imread(IMG_PATH)\n",
        "img = cv2.cvtColor(img, cv2.COLOR_BGR2GRAY)       # Convert to grayscale\n",
        "lics = read_txt(DETECT_PATH +'labels/'+IMG_NAME+'.txt')\n",
        "height, width = img.shape[:2]\n",
        "\n",
        "for lic in lics:\n",
        "    c, x, y, w, h = lic\n",
        "    w = int(w*width)\n",
        "    h = int(h*height)\n",
        "    x1 = int(x*width - int(w/2))\n",
        "    x2 = int(x*width + int(w/2))\n",
        "    y1 = int(y*height - int(h/2))\n",
        "    y2 = int(y*height + int(h/2))\n",
        "    img_alpr = img[y1:y2,x1:x2]\n",
        "    img = cv2.bilateralFilter(img_alpr, 11, 17, 17)      # Blur to reduce noise (Edges are preserved)\n",
        "    # img = cv2.GaussianBlur(img_alpr, (3,3), 0)         \n",
        "    plt.imshow(img, cmap='gray')\n",
        "    txt = pytesseract.image_to_string(img_alpr, lang='eng')\n",
        "    print(txt)\n"
      ],
      "execution_count": null,
      "outputs": [
        {
          "output_type": "stream",
          "name": "stdout",
          "text": [
            " \n",
            "\f\n"
          ]
        },
        {
          "output_type": "display_data",
          "data": {
            "image/png": "[encoded data removed]",
            "text/plain": [
              "<Figure size 432x288 with 1 Axes>"
            ]
          },
          "metadata": {
            "needs_background": "light"
          }
        }
      ]
    }
  ]
}